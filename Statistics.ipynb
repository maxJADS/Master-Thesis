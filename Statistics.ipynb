{
 "cells": [
  {
   "cell_type": "markdown",
   "metadata": {},
   "source": [
    "# Support notebook for statistics and plots in section EDA of the report"
   ]
  },
  {
   "cell_type": "code",
   "execution_count": 19,
   "metadata": {},
   "outputs": [],
   "source": [
    "import pandas as pd\n",
    "import numpy as np\n",
    "import statsmodels as sm\n",
    "from statsmodels.tsa.seasonal import seasonal_decompose\n",
    "from pylab import rcParams\n",
    "import numpy as np\n",
    "import matplotlib.pyplot as plt\n",
    "from matplotlib import cm\n",
    "from matplotlib.pyplot import figure\n",
    "from scipy.fft import rfft, rfftfreq, rfft, irfft, fftfreq, fft\n",
    "import scipy\n",
    "import math\n",
    "from sklearn.decomposition import PCA\n",
    "from scipy.ndimage import gaussian_filter1d\n",
    "import plotly.express as px\n",
    "import plotly.subplots as ps\n",
    "import dash_core_components as dcc\n",
    "from datetime import datetime, timedelta\n",
    "import matplotlib.pyplot as plt\n",
    "import matplotlib.dates as mdates\n",
    "import matplotlib.cbook as cbook\n",
    "import dataframe_image as dfi"
   ]
  },
  {
   "cell_type": "markdown",
   "metadata": {},
   "source": [
    "##### create dataframe with descriptive statistics from dictionary with all datasets"
   ]
  },
  {
   "cell_type": "code",
   "execution_count": 2,
   "metadata": {},
   "outputs": [],
   "source": [
    "dataset_dict = {}\n",
    "for i in ['A', 'AA', 'AB', 'AC', 'AD', 'B', 'C', 'D', 'E', 'F', 'G', 'H', 'I', 'J', 'K']:\n",
    "    path = '01 - Raw Data/data_{}.xlsx'.format(i)\n",
    "    dataset_dict['df{}'.format(i)] = pd.read_excel(path)\n",
    "\n",
    "for i in range(1, 21):\n",
    "    path = '01 - Raw Data/Delivery 2 (enkel koelkast)/data_{}.xlsx'.format(i)\n",
    "    dataset_dict['df{}'.format(i)] = pd.read_excel(path)"
   ]
  },
  {
   "cell_type": "code",
   "execution_count": 3,
   "metadata": {},
   "outputs": [],
   "source": [
    "stats = pd.DataFrame(data=[dataset_dict[i]['Temp'].describe() for i in dataset_dict]).T\n",
    "stats.columns = [i for i in dataset_dict]"
   ]
  },
  {
   "cell_type": "code",
   "execution_count": 48,
   "metadata": {},
   "outputs": [
    {
     "data": {
      "text/html": [
       "<div>\n",
       "<style scoped>\n",
       "    .dataframe tbody tr th:only-of-type {\n",
       "        vertical-align: middle;\n",
       "    }\n",
       "\n",
       "    .dataframe tbody tr th {\n",
       "        vertical-align: top;\n",
       "    }\n",
       "\n",
       "    .dataframe thead th {\n",
       "        text-align: right;\n",
       "    }\n",
       "</style>\n",
       "<table border=\"1\" class=\"dataframe\">\n",
       "  <thead>\n",
       "    <tr style=\"text-align: right;\">\n",
       "      <th></th>\n",
       "      <th>dfA</th>\n",
       "      <th>dfAA</th>\n",
       "      <th>dfAB</th>\n",
       "      <th>dfAC</th>\n",
       "      <th>dfAD</th>\n",
       "      <th>dfB</th>\n",
       "      <th>dfC</th>\n",
       "    </tr>\n",
       "  </thead>\n",
       "  <tbody>\n",
       "    <tr>\n",
       "      <th>count</th>\n",
       "      <td>312657.00</td>\n",
       "      <td>297482.00</td>\n",
       "      <td>530979.00</td>\n",
       "      <td>327225.00</td>\n",
       "      <td>324095.00</td>\n",
       "      <td>315826.00</td>\n",
       "      <td>520147.00</td>\n",
       "    </tr>\n",
       "    <tr>\n",
       "      <th>mean</th>\n",
       "      <td>17.36</td>\n",
       "      <td>-18.46</td>\n",
       "      <td>17.40</td>\n",
       "      <td>33.22</td>\n",
       "      <td>17.96</td>\n",
       "      <td>5.67</td>\n",
       "      <td>11.34</td>\n",
       "    </tr>\n",
       "    <tr>\n",
       "      <th>std</th>\n",
       "      <td>9.04</td>\n",
       "      <td>5.91</td>\n",
       "      <td>6.46</td>\n",
       "      <td>15.64</td>\n",
       "      <td>8.28</td>\n",
       "      <td>0.92</td>\n",
       "      <td>6.81</td>\n",
       "    </tr>\n",
       "    <tr>\n",
       "      <th>min</th>\n",
       "      <td>-28.00</td>\n",
       "      <td>-26.77</td>\n",
       "      <td>-29.99</td>\n",
       "      <td>-20.35</td>\n",
       "      <td>-30.25</td>\n",
       "      <td>0.47</td>\n",
       "      <td>-40.06</td>\n",
       "    </tr>\n",
       "    <tr>\n",
       "      <th>25%</th>\n",
       "      <td>13.51</td>\n",
       "      <td>-21.21</td>\n",
       "      <td>15.97</td>\n",
       "      <td>21.30</td>\n",
       "      <td>18.17</td>\n",
       "      <td>5.51</td>\n",
       "      <td>4.84</td>\n",
       "    </tr>\n",
       "    <tr>\n",
       "      <th>50%</th>\n",
       "      <td>18.89</td>\n",
       "      <td>-20.40</td>\n",
       "      <td>19.30</td>\n",
       "      <td>23.21</td>\n",
       "      <td>20.29</td>\n",
       "      <td>5.61</td>\n",
       "      <td>12.34</td>\n",
       "    </tr>\n",
       "    <tr>\n",
       "      <th>75%</th>\n",
       "      <td>22.58</td>\n",
       "      <td>-18.20</td>\n",
       "      <td>21.51</td>\n",
       "      <td>45.66</td>\n",
       "      <td>21.90</td>\n",
       "      <td>5.70</td>\n",
       "      <td>17.03</td>\n",
       "    </tr>\n",
       "    <tr>\n",
       "      <th>max</th>\n",
       "      <td>47.68</td>\n",
       "      <td>32.55</td>\n",
       "      <td>55.78</td>\n",
       "      <td>63.99</td>\n",
       "      <td>42.66</td>\n",
       "      <td>30.09</td>\n",
       "      <td>69.98</td>\n",
       "    </tr>\n",
       "  </tbody>\n",
       "</table>\n",
       "</div>"
      ],
      "text/plain": [
       "            dfA      dfAA      dfAB      dfAC      dfAD       dfB       dfC\n",
       "count 312657.00 297482.00 530979.00 327225.00 324095.00 315826.00 520147.00\n",
       "mean      17.36    -18.46     17.40     33.22     17.96      5.67     11.34\n",
       "std        9.04      5.91      6.46     15.64      8.28      0.92      6.81\n",
       "min      -28.00    -26.77    -29.99    -20.35    -30.25      0.47    -40.06\n",
       "25%       13.51    -21.21     15.97     21.30     18.17      5.51      4.84\n",
       "50%       18.89    -20.40     19.30     23.21     20.29      5.61     12.34\n",
       "75%       22.58    -18.20     21.51     45.66     21.90      5.70     17.03\n",
       "max       47.68     32.55     55.78     63.99     42.66     30.09     69.98"
      ]
     },
     "execution_count": 48,
     "metadata": {},
     "output_type": "execute_result"
    }
   ],
   "source": [
    "pd.set_option('display.max_columns', None)\n",
    "pd.set_option('display.float_format', lambda x: '%.2f' % x)\n",
    "stats"
   ]
  },
  {
   "cell_type": "code",
   "execution_count": 60,
   "metadata": {},
   "outputs": [],
   "source": [
    "dfi.export(stats, 'datasets statistics.png', max_cols=-1)"
   ]
  },
  {
   "cell_type": "markdown",
   "metadata": {},
   "source": [
    "##### code used to create plots in EDA part with custom date axes"
   ]
  },
  {
   "cell_type": "code",
   "execution_count": 83,
   "metadata": {},
   "outputs": [
    {
     "data": {
      "image/png": "[encoded data removed]",
      "text/plain": [
       "<Figure size 720x216 with 2 Axes>"
      ]
     },
     "metadata": {
      "needs_background": "light"
     },
     "output_type": "display_data"
    }
   ],
   "source": [
    "index = 5995\n",
    "period = 12*2+1\n",
    "dfG = dataset_dict['dfG'][['EventDt', 'Temp']][index:index+period]\n",
    "dfB = dataset_dict['dfB'][['EventDt', 'Temp']][index+2:index+period+2]\n",
    "\n",
    "fig, (ax1, ax2) = plt.subplots(nrows=1, ncols=2, figsize=(10,3), constrained_layout=True)\n",
    "fig.suptitle('Hourly timescale', y=1.1)\n",
    "    #plot original data\n",
    "ax1.plot(dfB['EventDt'], dfB['Temp'], label='Temperature')\n",
    "ax1.xaxis.set_major_locator(mdates.MinuteLocator(byminute=(0,30,60,90,120)))\n",
    "ax1.xaxis.set_minor_locator(mdates.MinuteLocator(byminute=(10,20,40,50,70,80,100)))\n",
    "ax1.set_title(\"Dataset B\")\n",
    "ax1.set_xlabel(\"Date\")\n",
    "ax1.set_ylabel(\"Temperature [°C]\")\n",
    "ax1.legend()\n",
    "\n",
    "ax2.plot(dfG['EventDt'], dfG['Temp'], label='Temperature')\n",
    "ax2.xaxis.set_major_locator(mdates.MinuteLocator(byminute=(0,30,60,90,110)))\n",
    "ax2.xaxis.set_minor_locator(mdates.MinuteLocator(byminute=(10,20,40,50,70,80,100)))\n",
    "ax2.set_title(\"Dataset G\")\n",
    "ax2.set_xlabel(\"Date\")\n",
    "ax2.set_ylabel(\"Temperature [°C]\")\n",
    "ax2.legend()\n",
    "fig.savefig('thesis plots/EDA hourly.png', bbox_inches='tight')\n",
    "plt.show()\n",
    "# dataset_dict['dfG'][['EventDt', 'Temp']].plot(x='EventDt', y='Temp')"
   ]
  }
 ],
 "metadata": {
  "kernelspec": {
   "display_name": "Python 3",
   "language": "python",
   "name": "python3"
  },
  "language_info": {
   "codemirror_mode": {
    "name": "ipython",
    "version": 3
   },
   "file_extension": ".py",
   "mimetype": "text/x-python",
   "name": "python",
   "nbconvert_exporter": "python",
   "pygments_lexer": "ipython3",
   "version": "3.8.3"
  }
 },
 "nbformat": 4,
 "nbformat_minor": 4
}
